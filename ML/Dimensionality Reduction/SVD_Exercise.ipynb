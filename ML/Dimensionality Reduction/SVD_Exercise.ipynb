{
  "nbformat": 4,
  "nbformat_minor": 0,
  "metadata": {
    "colab": {
      "provenance": []
    },
    "kernelspec": {
      "name": "python3",
      "display_name": "Python 3"
    },
    "language_info": {
      "name": "python"
    }
  },
  "cells": [
    {
      "cell_type": "markdown",
      "source": [
        "#**SVD**"
      ],
      "metadata": {
        "id": "0PzxgQHw9ccz"
      }
    },
    {
      "cell_type": "markdown",
      "source": [
        "#import libraries"
      ],
      "metadata": {
        "id": "luFPiQ2i9myX"
      }
    },
    {
      "cell_type": "code",
      "execution_count": null,
      "metadata": {
        "id": "G-4zglvy9WkS"
      },
      "outputs": [],
      "source": [
        "import numpy as np"
      ]
    },
    {
      "cell_type": "markdown",
      "source": [
        "#Load the tabular dataset :\n",
        "\n",
        "dataset :\n",
        "\n",
        "\n",
        "    [1, 2, 1, 0, 4],\n",
        "\n",
        "    [2, 3, 4, 0, 2],\n",
        "\n",
        "    [3, 1, 1, 0, 5],\n",
        "\n",
        "    [4, 0, 2, 5, 0],\n",
        "\n",
        "    [5, 4, 0, 1, 2]\n"
      ],
      "metadata": {
        "id": "nZFDaio79sgu"
      }
    },
    {
      "cell_type": "code",
      "source": [
        "dataset = np.array([[1, 2, 1, 0, 4],\n",
        "[2, 3, 4, 0, 2],\n",
        "[3, 1, 1, 0, 5],\n",
        "[4, 0, 2, 5, 0],\n",
        "[5, 4, 0, 1, 2]])"
      ],
      "metadata": {
        "id": "MQ009CYG9qQS"
      },
      "execution_count": null,
      "outputs": []
    },
    {
      "cell_type": "markdown",
      "source": [
        "#Perform Singular Value Decomposition (SVD)\n"
      ],
      "metadata": {
        "id": "2roOK1gZ9yQo"
      }
    },
    {
      "cell_type": "code",
      "source": [
        "U, s, VT = np.linalg.svd(dataset)\n",
        "print(U,'\\n','---'*30,'\\n',s,'\\n','---'*30,VT)"
      ],
      "metadata": {
        "id": "0I7M_W_E9vka",
        "colab": {
          "base_uri": "https://localhost:8080/"
        },
        "outputId": "60d1e455-5715-4e24-e525-71f1aae6da23"
      },
      "execution_count": null,
      "outputs": [
        {
          "output_type": "stream",
          "name": "stdout",
          "text": [
            "[[-0.35204034 -0.38841088  0.06858116 -0.24890107 -0.81151061]\n",
            " [-0.435757   -0.14720066  0.75454006  0.42674571  0.19236735]\n",
            " [-0.47547476 -0.33554973 -0.14101786 -0.59405958  0.5371567 ]\n",
            " [-0.3868273   0.84326881  0.15226099 -0.31661873 -0.12582336]\n",
            " [-0.5572      0.06142506 -0.61878629  0.55025644 -0.00874639]] \n",
            " ------------------------------------------------------------------------------------------ \n",
            " [11.03193008  5.9744172   3.52502532  3.31230566  1.0980371 ] \n",
            " ------------------------------------------------------------------------------------------ [[-0.63300689 -0.42745253 -0.30313804 -0.22582961 -0.5231586 ]\n",
            " [ 0.33321061 -0.21897922  0.06256248  0.71601446 -0.56958583]\n",
            " [-0.37738163 -0.06110042  0.92204884  0.04043054 -0.04517901]\n",
            " [ 0.09275077  0.72137098  0.06967495 -0.3118182  -0.60740103]\n",
            " [ 0.58073519 -0.49520004  0.2217309  -0.58091226 -0.17578369]]\n"
          ]
        }
      ]
    },
    {
      "cell_type": "markdown",
      "source": [
        "# Extract the singular values and vectors"
      ],
      "metadata": {
        "id": "5ygCLQNt96Vb"
      }
    },
    {
      "cell_type": "code",
      "source": [
        "singular_values = np.diag(s)\n",
        "left_singular_vectors = U\n",
        "right_singular_vectors = VT.T # we have to do .T\n",
        "\n",
        "print(right_singular_vectors)\n",
        "print('---'*30)\n",
        "print(singular_values)\n",
        "print('---'*30)\n",
        "print(left_singular_vectors)\n"
      ],
      "metadata": {
        "id": "d_hE13Sn94k5",
        "colab": {
          "base_uri": "https://localhost:8080/"
        },
        "outputId": "0f7235f0-0497-41fb-b22e-79e290281bba"
      },
      "execution_count": null,
      "outputs": [
        {
          "output_type": "stream",
          "name": "stdout",
          "text": [
            "[[-0.63300689  0.33321061 -0.37738163  0.09275077  0.58073519]\n",
            " [-0.42745253 -0.21897922 -0.06110042  0.72137098 -0.49520004]\n",
            " [-0.30313804  0.06256248  0.92204884  0.06967495  0.2217309 ]\n",
            " [-0.22582961  0.71601446  0.04043054 -0.3118182  -0.58091226]\n",
            " [-0.5231586  -0.56958583 -0.04517901 -0.60740103 -0.17578369]]\n",
            "------------------------------------------------------------------------------------------\n",
            "[[11.03193008  0.          0.          0.          0.        ]\n",
            " [ 0.          5.9744172   0.          0.          0.        ]\n",
            " [ 0.          0.          3.52502532  0.          0.        ]\n",
            " [ 0.          0.          0.          3.31230566  0.        ]\n",
            " [ 0.          0.          0.          0.          1.0980371 ]]\n",
            "------------------------------------------------------------------------------------------\n",
            "[[-0.35204034 -0.38841088  0.06858116 -0.24890107 -0.81151061]\n",
            " [-0.435757   -0.14720066  0.75454006  0.42674571  0.19236735]\n",
            " [-0.47547476 -0.33554973 -0.14101786 -0.59405958  0.5371567 ]\n",
            " [-0.3868273   0.84326881  0.15226099 -0.31661873 -0.12582336]\n",
            " [-0.5572      0.06142506 -0.61878629  0.55025644 -0.00874639]]\n"
          ]
        }
      ]
    },
    {
      "cell_type": "markdown",
      "source": [
        "# Perform dimensionality reduction by selecting top k singular values and vectors\n"
      ],
      "metadata": {
        "id": "piU0jgug9_gD"
      }
    },
    {
      "cell_type": "code",
      "source": [
        "k = 2\n",
        "reduced_dataset = np.dot(np.dot(left_singular_vectors[:, :k],\n",
        "    singular_values[:k, :k]), right_singular_vectors[:, :k].T)\n"
      ],
      "metadata": {
        "id": "c55uNNCH9-5d"
      },
      "execution_count": null,
      "outputs": []
    },
    {
      "cell_type": "markdown",
      "source": [
        "# Print the original and reduced datasets\n"
      ],
      "metadata": {
        "id": "4raXfdzz-Gex"
      }
    },
    {
      "cell_type": "code",
      "source": [
        "print(\"Original Dataset:\")\n",
        "print(dataset)\n",
        "print(\"\\nReduced Dataset:\")\n",
        "print(reduced_dataset)\n"
      ],
      "metadata": {
        "id": "c7YIIN3S-DTl",
        "colab": {
          "base_uri": "https://localhost:8080/"
        },
        "outputId": "2571ceb7-184f-4962-9c27-d74584a1e441"
      },
      "execution_count": null,
      "outputs": [
        {
          "output_type": "stream",
          "name": "stdout",
          "text": [
            "Original Dataset:\n",
            "[[1 2 1 0 4]\n",
            " [2 3 4 0 2]\n",
            " [3 1 1 0 5]\n",
            " [4 0 2 5 0]\n",
            " [5 4 0 1 2]]\n",
            "\n",
            "Reduced Dataset:\n",
            "[[ 1.68517423  2.16823828  1.03211446 -0.78448115  3.35352314]\n",
            " [ 2.74997839  2.2474459   1.40223771  0.45592685  3.01586488]\n",
            " [ 2.65238506  2.68115204  1.46466169 -0.25083665  3.88603508]\n",
            " [ 4.38005462  0.72090701  1.60881922  4.57102627 -0.63704194]\n",
            " [ 4.0133692   2.54718625  1.88634605  1.65093492  3.00682541]]\n"
          ]
        }
      ]
    },
    {
      "cell_type": "markdown",
      "source": [
        "#**Well done :)**"
      ],
      "metadata": {
        "id": "ASLB0yos-Ofm"
      }
    }
  ]
}