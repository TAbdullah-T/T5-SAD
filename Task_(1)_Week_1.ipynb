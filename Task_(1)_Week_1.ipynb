{
  "nbformat": 4,
  "nbformat_minor": 0,
  "metadata": {
    "colab": {
      "provenance": [],
      "include_colab_link": true
    },
    "kernelspec": {
      "name": "python3",
      "display_name": "Python 3"
    },
    "language_info": {
      "name": "python"
    }
  },
  "cells": [
    {
      "cell_type": "markdown",
      "metadata": {
        "id": "view-in-github",
        "colab_type": "text"
      },
      "source": [
        "<a href=\"https://colab.research.google.com/github/TAbdullah-T/T5-SAD/blob/main/Task_(1)_Week_1.ipynb\" target=\"_parent\"><img src=\"https://colab.research.google.com/assets/colab-badge.svg\" alt=\"Open In Colab\"/></a>"
      ]
    },
    {
      "cell_type": "markdown",
      "source": [
        "#Dataset Description"
      ],
      "metadata": {
        "id": "8vb3xNKsoP0r"
      }
    },
    {
      "cell_type": "markdown",
      "source": [
        "\\\n",
        "\n",
        "## The dataset contains information about road traffic accidents with the following columns:\n",
        "\n",
        "`Time`: Time of the accident\n",
        "\n",
        "`Day_of_week`: Day of the week when the accident occurred\n",
        "\n",
        "`Age_band_of_driver`: Age group of the driver\n",
        "\n",
        "`Sex_of_driver`: Gender of the driver\n",
        "\n",
        "`Educational_level`: Educational level of the driver\n",
        "\n",
        "`Vehicle_driver_relation`: Relationship of the driver to the vehicle\n",
        "\n",
        "`Driving_experience`: Driving experience of the driver\n",
        "\n",
        "`Type_of_vehicle`: Type of vehicle involved in the accident\n",
        "\n",
        "`Owner_of_vehicle`: Owner of the vehicle\n",
        "\n",
        "`Service_year_of_vehicle`: Service years of the vehicle\n",
        "\n",
        "`Area_accident_occured`: Area where the accident occurred\n",
        "\n",
        "`Lanes_or_Medians`: Lanes or medians at the accident site\n",
        "\n",
        "`Road_allignment`: Road alignment at the accident site\n",
        "\n",
        "`Types_of_Junction`: Type of junction at the accident site\n",
        "\n",
        "`Road_surface_type`: Type of road surface at the accident site\n",
        "\n",
        "`Road_surface_conditions`: Road surface conditions at the accident site\n",
        "\n",
        "`Light_conditions`: Light conditions at the time of the accident\n",
        "\n",
        "`Weather_conditions`: Weather conditions at the time of the accident\n",
        "\n",
        "`Type_of_collision`: Type of collision\n",
        "\n",
        "`Number_of_vehicles_involved`: Number of vehicles involved in the accident\n",
        "\n",
        "`Number_of_casualties`: Number of casualties in the accident\n",
        "\n",
        "`Vehicle_movement`: Movement of the vehicle during the accident\n",
        "\n",
        "`Casualty_class`: Class of casualty (driver, passenger, pedestrian)\n",
        "\n",
        "`Sex_of_casualty`: Gender of the casualty\n",
        "\n",
        "`Age_band_of_casualty`: Age group of the casualty\n",
        "\n",
        "`Casualty_severity`: Severity of the casualty\n",
        "\n",
        "`Work_of_casuality`: Occupation of the casualty\n",
        "\n",
        "`Fitness_of_casuality`: Fitness of the casualty\n",
        "\n",
        "`Pedestrian_movement`: Movement of the pedestrian\n",
        "\n",
        "`Cause_of_accident`: Cause of the accident\n",
        "\n",
        "`Accident_severity`: Severity of the accident\n"
      ],
      "metadata": {
        "id": "4TflBwn4kNdJ"
      }
    },
    {
      "cell_type": "markdown",
      "source": [
        "# Tasks"
      ],
      "metadata": {
        "id": "WBNuyQVhlpj5"
      }
    },
    {
      "cell_type": "markdown",
      "source": [
        "##1. Data Cleaning"
      ],
      "metadata": {
        "id": "dasaHMt9lvdZ"
      }
    },
    {
      "cell_type": "markdown",
      "source": [
        "### Read the dataset"
      ],
      "metadata": {
        "id": "RNId1lMc3iUT"
      }
    },
    {
      "cell_type": "code",
      "source": [
        "from google.colab import drive\n",
        "drive.mount('/gdrive')\n",
        "!ln -s \"/gdrive/My Drive/T5_SAD/Week_1/Project\" \"/content/Project\""
      ],
      "metadata": {
        "id": "1Jf3GwdWat25"
      },
      "execution_count": null,
      "outputs": []
    },
    {
      "cell_type": "code",
      "source": [
        "import pandas as pd\n",
        "\n",
        "df=pd.read_csv('/content/Task (1) Dataset.csv')"
      ],
      "metadata": {
        "id": "KoTLFh533l5X"
      },
      "execution_count": null,
      "outputs": []
    },
    {
      "cell_type": "code",
      "source": [
        "df.head()"
      ],
      "metadata": {
        "colab": {
          "base_uri": "https://localhost:8080/",
          "height": 423
        },
        "id": "WcLhZRPqc8iH",
        "outputId": "61d36d48-27fc-4eb8-e913-17dcb48dccce"
      },
      "execution_count": null,
      "outputs": [
        {
          "output_type": "execute_result",
          "data": {
            "text/plain": [
              "                 Time Day_of_week Age_band_of_driver Sex_of_driver  \\\n",
              "1 2024-07-25 17:02:00      Monday              31-50          Male   \n",
              "3 2024-07-25 01:06:00      Sunday              18-30          Male   \n",
              "4 2024-07-25 01:06:00      Sunday              18-30          Male   \n",
              "7 2024-07-25 17:20:00      Friday              18-30          Male   \n",
              "8 2024-07-25 17:20:00      Friday              18-30          Male   \n",
              "\n",
              "    Educational_level Vehicle_driver_relation  Driving_experience  \\\n",
              "1  Junior high school                Employee            3.772573   \n",
              "3  Junior high school                Employee            7.000000   \n",
              "4  Junior high school                Employee            3.000000   \n",
              "7  Junior high school                Employee            3.000000   \n",
              "8  Junior high school                Employee            3.772573   \n",
              "\n",
              "       Type_of_vehicle Owner_of_vehicle  Service_year_of_vehicle  ...  \\\n",
              "1  Public (> 45 seats)            Owner                 4.109061  ...   \n",
              "3  Public (> 45 seats)     Governmental                 4.109061  ...   \n",
              "4           Automobile            Owner                 4.109061  ...   \n",
              "7           Automobile     Governmental                15.000000  ...   \n",
              "8      Lorry (41?100Q)            Owner                 1.500000  ...   \n",
              "\n",
              "  Number_of_vehicles_involved Number_of_casualties Vehicle_movement  \\\n",
              "1                           2                    2   Going straight   \n",
              "3                           2                    2   Going straight   \n",
              "4                           2                    2   Going straight   \n",
              "7                           2                    1           U-Turn   \n",
              "8                           2                    1   Going straight   \n",
              "\n",
              "  Casualty_class Sex_of_casualty Age_band_of_casualty Casualty_severity  \\\n",
              "1             na              na                   na                na   \n",
              "3     Pedestrian          Female                18-30                 3   \n",
              "4             na              na                   na                na   \n",
              "7             na              na                   na                na   \n",
              "8     Pedestrian            Male             Under 18                 3   \n",
              "\n",
              "               Pedestrian_movement           Cause_of_accident  \\\n",
              "1                 Not a Pedestrian                  Overtaking   \n",
              "3                 Not a Pedestrian  Changing lane to the right   \n",
              "4                 Not a Pedestrian                  Overtaking   \n",
              "7                 Not a Pedestrian      No priority to vehicle   \n",
              "8  Crossing from driver's nearside  Changing lane to the right   \n",
              "\n",
              "  Accident_severity  \n",
              "1     Slight Injury  \n",
              "3     Slight Injury  \n",
              "4     Slight Injury  \n",
              "7     Slight Injury  \n",
              "8     Slight Injury  \n",
              "\n",
              "[5 rows x 30 columns]"
            ],
            "text/html": [
              "\n",
              "  <div id=\"df-09c743cd-ab0d-4006-8b0c-6018b27a1564\" class=\"colab-df-container\">\n",
              "    <div>\n",
              "<style scoped>\n",
              "    .dataframe tbody tr th:only-of-type {\n",
              "        vertical-align: middle;\n",
              "    }\n",
              "\n",
              "    .dataframe tbody tr th {\n",
              "        vertical-align: top;\n",
              "    }\n",
              "\n",
              "    .dataframe thead th {\n",
              "        text-align: right;\n",
              "    }\n",
              "</style>\n",
              "<table border=\"1\" class=\"dataframe\">\n",
              "  <thead>\n",
              "    <tr style=\"text-align: right;\">\n",
              "      <th></th>\n",
              "      <th>Time</th>\n",
              "      <th>Day_of_week</th>\n",
              "      <th>Age_band_of_driver</th>\n",
              "      <th>Sex_of_driver</th>\n",
              "      <th>Educational_level</th>\n",
              "      <th>Vehicle_driver_relation</th>\n",
              "      <th>Driving_experience</th>\n",
              "      <th>Type_of_vehicle</th>\n",
              "      <th>Owner_of_vehicle</th>\n",
              "      <th>Service_year_of_vehicle</th>\n",
              "      <th>...</th>\n",
              "      <th>Number_of_vehicles_involved</th>\n",
              "      <th>Number_of_casualties</th>\n",
              "      <th>Vehicle_movement</th>\n",
              "      <th>Casualty_class</th>\n",
              "      <th>Sex_of_casualty</th>\n",
              "      <th>Age_band_of_casualty</th>\n",
              "      <th>Casualty_severity</th>\n",
              "      <th>Pedestrian_movement</th>\n",
              "      <th>Cause_of_accident</th>\n",
              "      <th>Accident_severity</th>\n",
              "    </tr>\n",
              "  </thead>\n",
              "  <tbody>\n",
              "    <tr>\n",
              "      <th>1</th>\n",
              "      <td>2024-07-25 17:02:00</td>\n",
              "      <td>Monday</td>\n",
              "      <td>31-50</td>\n",
              "      <td>Male</td>\n",
              "      <td>Junior high school</td>\n",
              "      <td>Employee</td>\n",
              "      <td>3.772573</td>\n",
              "      <td>Public (&gt; 45 seats)</td>\n",
              "      <td>Owner</td>\n",
              "      <td>4.109061</td>\n",
              "      <td>...</td>\n",
              "      <td>2</td>\n",
              "      <td>2</td>\n",
              "      <td>Going straight</td>\n",
              "      <td>na</td>\n",
              "      <td>na</td>\n",
              "      <td>na</td>\n",
              "      <td>na</td>\n",
              "      <td>Not a Pedestrian</td>\n",
              "      <td>Overtaking</td>\n",
              "      <td>Slight Injury</td>\n",
              "    </tr>\n",
              "    <tr>\n",
              "      <th>3</th>\n",
              "      <td>2024-07-25 01:06:00</td>\n",
              "      <td>Sunday</td>\n",
              "      <td>18-30</td>\n",
              "      <td>Male</td>\n",
              "      <td>Junior high school</td>\n",
              "      <td>Employee</td>\n",
              "      <td>7.000000</td>\n",
              "      <td>Public (&gt; 45 seats)</td>\n",
              "      <td>Governmental</td>\n",
              "      <td>4.109061</td>\n",
              "      <td>...</td>\n",
              "      <td>2</td>\n",
              "      <td>2</td>\n",
              "      <td>Going straight</td>\n",
              "      <td>Pedestrian</td>\n",
              "      <td>Female</td>\n",
              "      <td>18-30</td>\n",
              "      <td>3</td>\n",
              "      <td>Not a Pedestrian</td>\n",
              "      <td>Changing lane to the right</td>\n",
              "      <td>Slight Injury</td>\n",
              "    </tr>\n",
              "    <tr>\n",
              "      <th>4</th>\n",
              "      <td>2024-07-25 01:06:00</td>\n",
              "      <td>Sunday</td>\n",
              "      <td>18-30</td>\n",
              "      <td>Male</td>\n",
              "      <td>Junior high school</td>\n",
              "      <td>Employee</td>\n",
              "      <td>3.000000</td>\n",
              "      <td>Automobile</td>\n",
              "      <td>Owner</td>\n",
              "      <td>4.109061</td>\n",
              "      <td>...</td>\n",
              "      <td>2</td>\n",
              "      <td>2</td>\n",
              "      <td>Going straight</td>\n",
              "      <td>na</td>\n",
              "      <td>na</td>\n",
              "      <td>na</td>\n",
              "      <td>na</td>\n",
              "      <td>Not a Pedestrian</td>\n",
              "      <td>Overtaking</td>\n",
              "      <td>Slight Injury</td>\n",
              "    </tr>\n",
              "    <tr>\n",
              "      <th>7</th>\n",
              "      <td>2024-07-25 17:20:00</td>\n",
              "      <td>Friday</td>\n",
              "      <td>18-30</td>\n",
              "      <td>Male</td>\n",
              "      <td>Junior high school</td>\n",
              "      <td>Employee</td>\n",
              "      <td>3.000000</td>\n",
              "      <td>Automobile</td>\n",
              "      <td>Governmental</td>\n",
              "      <td>15.000000</td>\n",
              "      <td>...</td>\n",
              "      <td>2</td>\n",
              "      <td>1</td>\n",
              "      <td>U-Turn</td>\n",
              "      <td>na</td>\n",
              "      <td>na</td>\n",
              "      <td>na</td>\n",
              "      <td>na</td>\n",
              "      <td>Not a Pedestrian</td>\n",
              "      <td>No priority to vehicle</td>\n",
              "      <td>Slight Injury</td>\n",
              "    </tr>\n",
              "    <tr>\n",
              "      <th>8</th>\n",
              "      <td>2024-07-25 17:20:00</td>\n",
              "      <td>Friday</td>\n",
              "      <td>18-30</td>\n",
              "      <td>Male</td>\n",
              "      <td>Junior high school</td>\n",
              "      <td>Employee</td>\n",
              "      <td>3.772573</td>\n",
              "      <td>Lorry (41?100Q)</td>\n",
              "      <td>Owner</td>\n",
              "      <td>1.500000</td>\n",
              "      <td>...</td>\n",
              "      <td>2</td>\n",
              "      <td>1</td>\n",
              "      <td>Going straight</td>\n",
              "      <td>Pedestrian</td>\n",
              "      <td>Male</td>\n",
              "      <td>Under 18</td>\n",
              "      <td>3</td>\n",
              "      <td>Crossing from driver's nearside</td>\n",
              "      <td>Changing lane to the right</td>\n",
              "      <td>Slight Injury</td>\n",
              "    </tr>\n",
              "  </tbody>\n",
              "</table>\n",
              "<p>5 rows × 30 columns</p>\n",
              "</div>\n",
              "    <div class=\"colab-df-buttons\">\n",
              "\n",
              "  <div class=\"colab-df-container\">\n",
              "    <button class=\"colab-df-convert\" onclick=\"convertToInteractive('df-09c743cd-ab0d-4006-8b0c-6018b27a1564')\"\n",
              "            title=\"Convert this dataframe to an interactive table.\"\n",
              "            style=\"display:none;\">\n",
              "\n",
              "  <svg xmlns=\"http://www.w3.org/2000/svg\" height=\"24px\" viewBox=\"0 -960 960 960\">\n",
              "    <path d=\"M120-120v-720h720v720H120Zm60-500h600v-160H180v160Zm220 220h160v-160H400v160Zm0 220h160v-160H400v160ZM180-400h160v-160H180v160Zm440 0h160v-160H620v160ZM180-180h160v-160H180v160Zm440 0h160v-160H620v160Z\"/>\n",
              "  </svg>\n",
              "    </button>\n",
              "\n",
              "  <style>\n",
              "    .colab-df-container {\n",
              "      display:flex;\n",
              "      gap: 12px;\n",
              "    }\n",
              "\n",
              "    .colab-df-convert {\n",
              "      background-color: #E8F0FE;\n",
              "      border: none;\n",
              "      border-radius: 50%;\n",
              "      cursor: pointer;\n",
              "      display: none;\n",
              "      fill: #1967D2;\n",
              "      height: 32px;\n",
              "      padding: 0 0 0 0;\n",
              "      width: 32px;\n",
              "    }\n",
              "\n",
              "    .colab-df-convert:hover {\n",
              "      background-color: #E2EBFA;\n",
              "      box-shadow: 0px 1px 2px rgba(60, 64, 67, 0.3), 0px 1px 3px 1px rgba(60, 64, 67, 0.15);\n",
              "      fill: #174EA6;\n",
              "    }\n",
              "\n",
              "    .colab-df-buttons div {\n",
              "      margin-bottom: 4px;\n",
              "    }\n",
              "\n",
              "    [theme=dark] .colab-df-convert {\n",
              "      background-color: #3B4455;\n",
              "      fill: #D2E3FC;\n",
              "    }\n",
              "\n",
              "    [theme=dark] .colab-df-convert:hover {\n",
              "      background-color: #434B5C;\n",
              "      box-shadow: 0px 1px 3px 1px rgba(0, 0, 0, 0.15);\n",
              "      filter: drop-shadow(0px 1px 2px rgba(0, 0, 0, 0.3));\n",
              "      fill: #FFFFFF;\n",
              "    }\n",
              "  </style>\n",
              "\n",
              "    <script>\n",
              "      const buttonEl =\n",
              "        document.querySelector('#df-09c743cd-ab0d-4006-8b0c-6018b27a1564 button.colab-df-convert');\n",
              "      buttonEl.style.display =\n",
              "        google.colab.kernel.accessAllowed ? 'block' : 'none';\n",
              "\n",
              "      async function convertToInteractive(key) {\n",
              "        const element = document.querySelector('#df-09c743cd-ab0d-4006-8b0c-6018b27a1564');\n",
              "        const dataTable =\n",
              "          await google.colab.kernel.invokeFunction('convertToInteractive',\n",
              "                                                    [key], {});\n",
              "        if (!dataTable) return;\n",
              "\n",
              "        const docLinkHtml = 'Like what you see? Visit the ' +\n",
              "          '<a target=\"_blank\" href=https://colab.research.google.com/notebooks/data_table.ipynb>data table notebook</a>'\n",
              "          + ' to learn more about interactive tables.';\n",
              "        element.innerHTML = '';\n",
              "        dataTable['output_type'] = 'display_data';\n",
              "        await google.colab.output.renderOutput(dataTable, element);\n",
              "        const docLink = document.createElement('div');\n",
              "        docLink.innerHTML = docLinkHtml;\n",
              "        element.appendChild(docLink);\n",
              "      }\n",
              "    </script>\n",
              "  </div>\n",
              "\n",
              "\n",
              "<div id=\"df-be3b0a85-4688-466f-9e83-13d65111daac\">\n",
              "  <button class=\"colab-df-quickchart\" onclick=\"quickchart('df-be3b0a85-4688-466f-9e83-13d65111daac')\"\n",
              "            title=\"Suggest charts\"\n",
              "            style=\"display:none;\">\n",
              "\n",
              "<svg xmlns=\"http://www.w3.org/2000/svg\" height=\"24px\"viewBox=\"0 0 24 24\"\n",
              "     width=\"24px\">\n",
              "    <g>\n",
              "        <path d=\"M19 3H5c-1.1 0-2 .9-2 2v14c0 1.1.9 2 2 2h14c1.1 0 2-.9 2-2V5c0-1.1-.9-2-2-2zM9 17H7v-7h2v7zm4 0h-2V7h2v10zm4 0h-2v-4h2v4z\"/>\n",
              "    </g>\n",
              "</svg>\n",
              "  </button>\n",
              "\n",
              "<style>\n",
              "  .colab-df-quickchart {\n",
              "      --bg-color: #E8F0FE;\n",
              "      --fill-color: #1967D2;\n",
              "      --hover-bg-color: #E2EBFA;\n",
              "      --hover-fill-color: #174EA6;\n",
              "      --disabled-fill-color: #AAA;\n",
              "      --disabled-bg-color: #DDD;\n",
              "  }\n",
              "\n",
              "  [theme=dark] .colab-df-quickchart {\n",
              "      --bg-color: #3B4455;\n",
              "      --fill-color: #D2E3FC;\n",
              "      --hover-bg-color: #434B5C;\n",
              "      --hover-fill-color: #FFFFFF;\n",
              "      --disabled-bg-color: #3B4455;\n",
              "      --disabled-fill-color: #666;\n",
              "  }\n",
              "\n",
              "  .colab-df-quickchart {\n",
              "    background-color: var(--bg-color);\n",
              "    border: none;\n",
              "    border-radius: 50%;\n",
              "    cursor: pointer;\n",
              "    display: none;\n",
              "    fill: var(--fill-color);\n",
              "    height: 32px;\n",
              "    padding: 0;\n",
              "    width: 32px;\n",
              "  }\n",
              "\n",
              "  .colab-df-quickchart:hover {\n",
              "    background-color: var(--hover-bg-color);\n",
              "    box-shadow: 0 1px 2px rgba(60, 64, 67, 0.3), 0 1px 3px 1px rgba(60, 64, 67, 0.15);\n",
              "    fill: var(--button-hover-fill-color);\n",
              "  }\n",
              "\n",
              "  .colab-df-quickchart-complete:disabled,\n",
              "  .colab-df-quickchart-complete:disabled:hover {\n",
              "    background-color: var(--disabled-bg-color);\n",
              "    fill: var(--disabled-fill-color);\n",
              "    box-shadow: none;\n",
              "  }\n",
              "\n",
              "  .colab-df-spinner {\n",
              "    border: 2px solid var(--fill-color);\n",
              "    border-color: transparent;\n",
              "    border-bottom-color: var(--fill-color);\n",
              "    animation:\n",
              "      spin 1s steps(1) infinite;\n",
              "  }\n",
              "\n",
              "  @keyframes spin {\n",
              "    0% {\n",
              "      border-color: transparent;\n",
              "      border-bottom-color: var(--fill-color);\n",
              "      border-left-color: var(--fill-color);\n",
              "    }\n",
              "    20% {\n",
              "      border-color: transparent;\n",
              "      border-left-color: var(--fill-color);\n",
              "      border-top-color: var(--fill-color);\n",
              "    }\n",
              "    30% {\n",
              "      border-color: transparent;\n",
              "      border-left-color: var(--fill-color);\n",
              "      border-top-color: var(--fill-color);\n",
              "      border-right-color: var(--fill-color);\n",
              "    }\n",
              "    40% {\n",
              "      border-color: transparent;\n",
              "      border-right-color: var(--fill-color);\n",
              "      border-top-color: var(--fill-color);\n",
              "    }\n",
              "    60% {\n",
              "      border-color: transparent;\n",
              "      border-right-color: var(--fill-color);\n",
              "    }\n",
              "    80% {\n",
              "      border-color: transparent;\n",
              "      border-right-color: var(--fill-color);\n",
              "      border-bottom-color: var(--fill-color);\n",
              "    }\n",
              "    90% {\n",
              "      border-color: transparent;\n",
              "      border-bottom-color: var(--fill-color);\n",
              "    }\n",
              "  }\n",
              "</style>\n",
              "\n",
              "  <script>\n",
              "    async function quickchart(key) {\n",
              "      const quickchartButtonEl =\n",
              "        document.querySelector('#' + key + ' button');\n",
              "      quickchartButtonEl.disabled = true;  // To prevent multiple clicks.\n",
              "      quickchartButtonEl.classList.add('colab-df-spinner');\n",
              "      try {\n",
              "        const charts = await google.colab.kernel.invokeFunction(\n",
              "            'suggestCharts', [key], {});\n",
              "      } catch (error) {\n",
              "        console.error('Error during call to suggestCharts:', error);\n",
              "      }\n",
              "      quickchartButtonEl.classList.remove('colab-df-spinner');\n",
              "      quickchartButtonEl.classList.add('colab-df-quickchart-complete');\n",
              "    }\n",
              "    (() => {\n",
              "      let quickchartButtonEl =\n",
              "        document.querySelector('#df-be3b0a85-4688-466f-9e83-13d65111daac button');\n",
              "      quickchartButtonEl.style.display =\n",
              "        google.colab.kernel.accessAllowed ? 'block' : 'none';\n",
              "    })();\n",
              "  </script>\n",
              "</div>\n",
              "\n",
              "    </div>\n",
              "  </div>\n"
            ],
            "application/vnd.google.colaboratory.intrinsic+json": {
              "type": "dataframe",
              "variable_name": "df"
            }
          },
          "metadata": {},
          "execution_count": 98
        }
      ]
    },
    {
      "cell_type": "code",
      "source": [
        "df.duplicated().sum()"
      ],
      "metadata": {
        "colab": {
          "base_uri": "https://localhost:8080/"
        },
        "id": "ub6Q_b2S2hx9",
        "outputId": "d6401f63-f6f6-49cc-e974-40b45d0a8b7f"
      },
      "execution_count": null,
      "outputs": [
        {
          "output_type": "execute_result",
          "data": {
            "text/plain": [
              "0"
            ]
          },
          "metadata": {},
          "execution_count": 99
        }
      ]
    },
    {
      "cell_type": "code",
      "source": [
        "df.info()"
      ],
      "metadata": {
        "colab": {
          "base_uri": "https://localhost:8080/"
        },
        "id": "60N8_IQilMkC",
        "outputId": "270a4b1c-9592-43b5-bd77-302f594176c7"
      },
      "execution_count": null,
      "outputs": [
        {
          "output_type": "stream",
          "name": "stdout",
          "text": [
            "<class 'pandas.core.frame.DataFrame'>\n",
            "RangeIndex: 12316 entries, 0 to 12315\n",
            "Data columns (total 32 columns):\n",
            " #   Column                       Non-Null Count  Dtype \n",
            "---  ------                       --------------  ----- \n",
            " 0   Time                         12316 non-null  object\n",
            " 1   Day_of_week                  12316 non-null  object\n",
            " 2   Age_band_of_driver           12316 non-null  object\n",
            " 3   Sex_of_driver                12316 non-null  object\n",
            " 4   Educational_level            11575 non-null  object\n",
            " 5   Vehicle_driver_relation      11737 non-null  object\n",
            " 6   Driving_experience           11487 non-null  object\n",
            " 7   Type_of_vehicle              11366 non-null  object\n",
            " 8   Owner_of_vehicle             11834 non-null  object\n",
            " 9   Service_year_of_vehicle      8388 non-null   object\n",
            " 10  Defect_of_vehicle            7889 non-null   object\n",
            " 11  Area_accident_occured        12077 non-null  object\n",
            " 12  Lanes_or_Medians             11931 non-null  object\n",
            " 13  Road_allignment              12174 non-null  object\n",
            " 14  Types_of_Junction            11429 non-null  object\n",
            " 15  Road_surface_type            12144 non-null  object\n",
            " 16  Road_surface_conditions      12316 non-null  object\n",
            " 17  Light_conditions             12316 non-null  object\n",
            " 18  Weather_conditions           12316 non-null  object\n",
            " 19  Type_of_collision            12161 non-null  object\n",
            " 20  Number_of_vehicles_involved  12316 non-null  int64 \n",
            " 21  Number_of_casualties         12316 non-null  int64 \n",
            " 22  Vehicle_movement             12008 non-null  object\n",
            " 23  Casualty_class               12316 non-null  object\n",
            " 24  Sex_of_casualty              12316 non-null  object\n",
            " 25  Age_band_of_casualty         12316 non-null  object\n",
            " 26  Casualty_severity            12316 non-null  object\n",
            " 27  Work_of_casuality            9118 non-null   object\n",
            " 28  Fitness_of_casuality         9681 non-null   object\n",
            " 29  Pedestrian_movement          12316 non-null  object\n",
            " 30  Cause_of_accident            12316 non-null  object\n",
            " 31  Accident_severity            12316 non-null  object\n",
            "dtypes: int64(2), object(30)\n",
            "memory usage: 3.0+ MB\n"
          ]
        }
      ]
    },
    {
      "cell_type": "markdown",
      "source": [
        "### Handle Missing Values"
      ],
      "metadata": {
        "id": "WiipgZA4l1Wt"
      }
    },
    {
      "cell_type": "code",
      "source": [
        "df.isna().sum()"
      ],
      "metadata": {
        "id": "jGQsNlCWpHzw",
        "colab": {
          "base_uri": "https://localhost:8080/"
        },
        "outputId": "cf192df2-8a14-490d-a9b0-e0eb18a6b4d2"
      },
      "execution_count": null,
      "outputs": [
        {
          "output_type": "execute_result",
          "data": {
            "text/plain": [
              "Time                              0\n",
              "Day_of_week                       0\n",
              "Age_band_of_driver                0\n",
              "Sex_of_driver                     0\n",
              "Educational_level               741\n",
              "Vehicle_driver_relation         579\n",
              "Driving_experience              829\n",
              "Type_of_vehicle                 950\n",
              "Owner_of_vehicle                482\n",
              "Service_year_of_vehicle        3928\n",
              "Defect_of_vehicle              4427\n",
              "Area_accident_occured           239\n",
              "Lanes_or_Medians                385\n",
              "Road_allignment                 142\n",
              "Types_of_Junction               887\n",
              "Road_surface_type               172\n",
              "Road_surface_conditions           0\n",
              "Light_conditions                  0\n",
              "Weather_conditions                0\n",
              "Type_of_collision               155\n",
              "Number_of_vehicles_involved       0\n",
              "Number_of_casualties              0\n",
              "Vehicle_movement                308\n",
              "Casualty_class                    0\n",
              "Sex_of_casualty                   0\n",
              "Age_band_of_casualty              0\n",
              "Casualty_severity                 0\n",
              "Work_of_casuality              3198\n",
              "Fitness_of_casuality           2635\n",
              "Pedestrian_movement               0\n",
              "Cause_of_accident                 0\n",
              "Accident_severity                 0\n",
              "dtype: int64"
            ]
          },
          "metadata": {},
          "execution_count": 46
        }
      ]
    },
    {
      "cell_type": "markdown",
      "source": [
        "### Removing the usless columns\n",
        "Work_of_casuality; it will not add value to our need\n",
        "\n",
        "Fintness_of_casualty; does not relate to how good drivers are"
      ],
      "metadata": {
        "id": "xzAyV-8ceFOd"
      }
    },
    {
      "cell_type": "code",
      "source": [
        "df.drop(['Work_of_casuality','Fitness_of_casuality'],axis=1,inplace=True)"
      ],
      "metadata": {
        "id": "tZaRHLszd2ox"
      },
      "execution_count": null,
      "outputs": []
    },
    {
      "cell_type": "markdown",
      "source": [
        "### Removing the rows of missing values in these columns\n",
        "\n",
        "- Vehicle_driver_relation\n",
        "- Owner_of_vehicle\n",
        "- Road_allignment\n",
        "- Lanes_or_Medians\n",
        "- Area_accident_occured\n",
        "- Lanes_or_Medians\n",
        "- Road_surface_type\n",
        "- Type_of_collision\n",
        "- Vehicle_movement"
      ],
      "metadata": {
        "id": "ZwRWFh66dGd4"
      }
    },
    {
      "cell_type": "code",
      "source": [
        "df.dropna(subset=['Vehicle_driver_relation','Owner_of_vehicle','Road_allignment','Lanes_or_Medians','Area_accident_occured','Road_surface_type','Type_of_collision','Vehicle_movement'],inplace=True)"
      ],
      "metadata": {
        "id": "0k8FLA6ocBXB"
      },
      "execution_count": null,
      "outputs": []
    },
    {
      "cell_type": "code",
      "source": [
        "df.isna().sum()"
      ],
      "metadata": {
        "colab": {
          "base_uri": "https://localhost:8080/"
        },
        "id": "Czx99BX8e9pz",
        "outputId": "84b6a7d6-c6bc-4152-cf0e-519c0b62849c"
      },
      "execution_count": null,
      "outputs": [
        {
          "output_type": "execute_result",
          "data": {
            "text/plain": [
              "Time                              0\n",
              "Day_of_week                       0\n",
              "Age_band_of_driver                0\n",
              "Sex_of_driver                     0\n",
              "Educational_level               227\n",
              "Vehicle_driver_relation           0\n",
              "Driving_experience              293\n",
              "Type_of_vehicle                 744\n",
              "Owner_of_vehicle                  0\n",
              "Service_year_of_vehicle        3010\n",
              "Defect_of_vehicle              3387\n",
              "Area_accident_occured             0\n",
              "Lanes_or_Medians                  0\n",
              "Road_allignment                   0\n",
              "Types_of_Junction               734\n",
              "Road_surface_type                 0\n",
              "Road_surface_conditions           0\n",
              "Light_conditions                  0\n",
              "Weather_conditions                0\n",
              "Type_of_collision                 0\n",
              "Number_of_vehicles_involved       0\n",
              "Number_of_casualties              0\n",
              "Vehicle_movement                  0\n",
              "Casualty_class                    0\n",
              "Sex_of_casualty                   0\n",
              "Age_band_of_casualty              0\n",
              "Casualty_severity                 0\n",
              "Pedestrian_movement               0\n",
              "Cause_of_accident                 0\n",
              "Accident_severity                 0\n",
              "dtype: int64"
            ]
          },
          "metadata": {},
          "execution_count": 49
        }
      ]
    },
    {
      "cell_type": "markdown",
      "source": [
        "### Filling the mode for categorical data\n",
        "\n",
        "- Types_of_Junction\n",
        "- Type_of_vehicle\n",
        "- Defect_of_vehicle\n",
        "- Educational_level"
      ],
      "metadata": {
        "id": "FhFeCXi0fFiP"
      }
    },
    {
      "cell_type": "code",
      "source": [
        "df['Types_of_Junction'].fillna(df['Types_of_Junction'].mode()[0],inplace=True)\n",
        "df['Type_of_vehicle'].fillna(df['Type_of_vehicle'].mode()[0],inplace=True)\n",
        "df['Defect_of_vehicle'].fillna(df['Defect_of_vehicle'].mode()[0],inplace=True)\n",
        "df['Educational_level'].fillna(df['Educational_level'].mode()[0],inplace= True)"
      ],
      "metadata": {
        "id": "18h45RZrfEqA"
      },
      "execution_count": null,
      "outputs": []
    },
    {
      "cell_type": "code",
      "source": [
        "df.isna().sum()"
      ],
      "metadata": {
        "colab": {
          "base_uri": "https://localhost:8080/"
        },
        "id": "-7mYyPAZhPyD",
        "outputId": "5beecaf4-2adc-4ae7-e651-12ee445fdacd"
      },
      "execution_count": null,
      "outputs": [
        {
          "output_type": "execute_result",
          "data": {
            "text/plain": [
              "Time                              0\n",
              "Day_of_week                       0\n",
              "Age_band_of_driver                0\n",
              "Sex_of_driver                     0\n",
              "Educational_level                 0\n",
              "Vehicle_driver_relation           0\n",
              "Driving_experience              293\n",
              "Type_of_vehicle                   0\n",
              "Owner_of_vehicle                  0\n",
              "Service_year_of_vehicle        3010\n",
              "Defect_of_vehicle                 0\n",
              "Area_accident_occured             0\n",
              "Lanes_or_Medians                  0\n",
              "Road_allignment                   0\n",
              "Types_of_Junction                 0\n",
              "Road_surface_type                 0\n",
              "Road_surface_conditions           0\n",
              "Light_conditions                  0\n",
              "Weather_conditions                0\n",
              "Type_of_collision                 0\n",
              "Number_of_vehicles_involved       0\n",
              "Number_of_casualties              0\n",
              "Vehicle_movement                  0\n",
              "Casualty_class                    0\n",
              "Sex_of_casualty                   0\n",
              "Age_band_of_casualty              0\n",
              "Casualty_severity                 0\n",
              "Pedestrian_movement               0\n",
              "Cause_of_accident                 0\n",
              "Accident_severity                 0\n",
              "dtype: int64"
            ]
          },
          "metadata": {},
          "execution_count": 51
        }
      ]
    },
    {
      "cell_type": "markdown",
      "source": [
        "### For the wrong framted columns we will convert them to intgers\n",
        "\n",
        "- Driving_experience\n",
        "- Service_year_of_vehicle"
      ],
      "metadata": {
        "id": "qCbQtkhQhS3y"
      }
    },
    {
      "cell_type": "code",
      "source": [
        "df['Driving_experience'].value_counts()"
      ],
      "metadata": {
        "colab": {
          "base_uri": "https://localhost:8080/"
        },
        "id": "oYALnsLaiSPl",
        "outputId": "bc5e9174-118a-4560-e7cd-834aa6a2cffd"
      },
      "execution_count": null,
      "outputs": [
        {
          "output_type": "execute_result",
          "data": {
            "text/plain": [
              "Driving_experience\n",
              "5-10yr        2904\n",
              "2-5yr         2289\n",
              "Above 10yr    1963\n",
              "1-2yr         1510\n",
              "Below 1yr     1162\n",
              "No Licence      98\n",
              "unknown         28\n",
              "Name: count, dtype: int64"
            ]
          },
          "metadata": {},
          "execution_count": 52
        }
      ]
    },
    {
      "cell_type": "code",
      "source": [
        "df['Driving_experience']=df['Driving_experience'].replace('1-2yr',1.5)\n",
        "df['Driving_experience']=df['Driving_experience'].replace('2-5yr',3)\n",
        "df['Driving_experience']=df['Driving_experience'].replace('5-10yr',7)\n",
        "df['Driving_experience']=df['Driving_experience'].replace('10+yr',15)\n",
        "df['Driving_experience']=df['Driving_experience'].replace('Below 1yr',0.5)\n",
        "df['Driving_experience']=df['Driving_experience'].replace('No Licence',0)\n",
        "df['Driving_experience']=df['Driving_experience'].replace('Unknown',0)"
      ],
      "metadata": {
        "id": "zBC1-KE0hSHA"
      },
      "execution_count": null,
      "outputs": []
    },
    {
      "cell_type": "code",
      "source": [
        "df['Driving_experience']=pd.to_numeric(df['Driving_experience'],errors='coerce')\n",
        "df['Driving_experience'].fillna(df['Driving_experience'].mean(),inplace=True)"
      ],
      "metadata": {
        "id": "i3nEqW02q7LW"
      },
      "execution_count": null,
      "outputs": []
    },
    {
      "cell_type": "code",
      "source": [
        "df.info()"
      ],
      "metadata": {
        "colab": {
          "base_uri": "https://localhost:8080/"
        },
        "id": "p0JBK_qorEdQ",
        "outputId": "42bb1dbe-d003-4e23-c59a-00013bfcf2d7"
      },
      "execution_count": null,
      "outputs": [
        {
          "output_type": "stream",
          "name": "stdout",
          "text": [
            "<class 'pandas.core.frame.DataFrame'>\n",
            "Index: 10247 entries, 1 to 12315\n",
            "Data columns (total 30 columns):\n",
            " #   Column                       Non-Null Count  Dtype  \n",
            "---  ------                       --------------  -----  \n",
            " 0   Time                         10247 non-null  object \n",
            " 1   Day_of_week                  10247 non-null  object \n",
            " 2   Age_band_of_driver           10247 non-null  object \n",
            " 3   Sex_of_driver                10247 non-null  object \n",
            " 4   Educational_level            10247 non-null  object \n",
            " 5   Vehicle_driver_relation      10247 non-null  object \n",
            " 6   Driving_experience           10247 non-null  float64\n",
            " 7   Type_of_vehicle              10247 non-null  object \n",
            " 8   Owner_of_vehicle             10247 non-null  object \n",
            " 9   Service_year_of_vehicle      10247 non-null  float64\n",
            " 10  Defect_of_vehicle            10247 non-null  object \n",
            " 11  Area_accident_occured        10247 non-null  object \n",
            " 12  Lanes_or_Medians             10247 non-null  object \n",
            " 13  Road_allignment              10247 non-null  object \n",
            " 14  Types_of_Junction            10247 non-null  object \n",
            " 15  Road_surface_type            10247 non-null  object \n",
            " 16  Road_surface_conditions      10247 non-null  object \n",
            " 17  Light_conditions             10247 non-null  object \n",
            " 18  Weather_conditions           10247 non-null  object \n",
            " 19  Type_of_collision            10247 non-null  object \n",
            " 20  Number_of_vehicles_involved  10247 non-null  int64  \n",
            " 21  Number_of_casualties         10247 non-null  int64  \n",
            " 22  Vehicle_movement             10247 non-null  object \n",
            " 23  Casualty_class               10247 non-null  object \n",
            " 24  Sex_of_casualty              10247 non-null  object \n",
            " 25  Age_band_of_casualty         10247 non-null  object \n",
            " 26  Casualty_severity            10247 non-null  object \n",
            " 27  Pedestrian_movement          10247 non-null  object \n",
            " 28  Cause_of_accident            10247 non-null  object \n",
            " 29  Accident_severity            10247 non-null  object \n",
            "dtypes: float64(2), int64(2), object(26)\n",
            "memory usage: 2.4+ MB\n"
          ]
        }
      ]
    },
    {
      "cell_type": "code",
      "source": [
        "df['Service_year_of_vehicle'].value_counts()"
      ],
      "metadata": {
        "colab": {
          "base_uri": "https://localhost:8080/"
        },
        "id": "PEmBYTlzjW55",
        "outputId": "cbbe6d97-f655-4448-a33b-203b163d7554"
      },
      "execution_count": null,
      "outputs": [
        {
          "output_type": "execute_result",
          "data": {
            "text/plain": [
              "Service_year_of_vehicle\n",
              "0          2438\n",
              "2-5yrs     1577\n",
              "15         1164\n",
              "5-10yrs    1135\n",
              "1.5         672\n",
              "0.5         251\n",
              "Name: count, dtype: int64"
            ]
          },
          "metadata": {},
          "execution_count": 57
        }
      ]
    },
    {
      "cell_type": "markdown",
      "source": [
        "Convert the type from str to int for the column Service_year_of_vehicle"
      ],
      "metadata": {
        "id": "6L_Y4gedqnFG"
      }
    },
    {
      "cell_type": "code",
      "source": [
        "df['Service_year_of_vehicle']=df['Service_year_of_vehicle'].replace('1-2yr',1.5)\n",
        "df['Service_year_of_vehicle']=df['Service_year_of_vehicle'].replace('2-5yr',3)\n",
        "df['Service_year_of_vehicle']=df['Service_year_of_vehicle'].replace('5-10yr',7)\n",
        "df['Service_year_of_vehicle']=df['Service_year_of_vehicle'].replace('Above 10yr',15)\n",
        "df['Service_year_of_vehicle']=df['Service_year_of_vehicle'].replace('Below 1yr',0.5)\n",
        "df['Service_year_of_vehicle']=df['Service_year_of_vehicle'].replace('Unknown',None)"
      ],
      "metadata": {
        "id": "DNNzBTHujweD"
      },
      "execution_count": null,
      "outputs": []
    },
    {
      "cell_type": "code",
      "source": [
        "df['Service_year_of_vehicle']=pd.to_numeric(df['Service_year_of_vehicle'],errors='coerce')\n",
        "df['Service_year_of_vehicle'].fillna(df['Service_year_of_vehicle'].mean(),inplace=True)"
      ],
      "metadata": {
        "id": "BgemfDzpqG9S"
      },
      "execution_count": null,
      "outputs": []
    },
    {
      "cell_type": "markdown",
      "source": [
        "### Correct any inconsistent data entries."
      ],
      "metadata": {
        "id": "RR8q7NzAmXvi"
      }
    },
    {
      "cell_type": "code",
      "source": [
        "for col in df.columns:\n",
        "    print(f\"{col}: {df[col].unique()}\")"
      ],
      "metadata": {
        "colab": {
          "base_uri": "https://localhost:8080/"
        },
        "id": "Rg7heUXI7xSf",
        "outputId": "a6960c18-22c2-49d1-d2a3-d585f57f4af7"
      },
      "execution_count": null,
      "outputs": [
        {
          "output_type": "stream",
          "name": "stdout",
          "text": [
            "Time: <DatetimeArray>\n",
            "['2024-07-25 17:02:00', '2024-07-25 01:06:00', '2024-07-25 17:20:00',\n",
            " '2024-07-25 14:40:00', '2024-07-25 17:45:00', '2024-07-25 22:45:00',\n",
            " '2024-07-25 08:20:00', '2024-07-25 15:10:00', '2024-07-25 12:11:00',\n",
            " '2024-07-25 18:36:00',\n",
            " ...\n",
            " '2024-07-25 19:22:00', '2024-07-25 23:55:00', '2024-07-25 15:58:00',\n",
            " '2024-07-25 10:26:00', '2024-07-25 05:53:00', '2024-07-25 22:11:00',\n",
            " '2024-07-25 07:02:00', '2024-07-25 07:24:00', '2024-07-25 19:18:00',\n",
            " '2024-07-25 02:47:00']\n",
            "Length: 1054, dtype: datetime64[ns]\n",
            "Day_of_week: ['Monday' 'Sunday' 'Friday' 'Saturday' 'Thursday' 'Tuesday' 'Wednesday']\n",
            "Age_band_of_driver: ['31-50' '18-30' 'Under 18' 'Over 51' 'Unknown']\n",
            "Sex_of_driver: ['Male' 'Female' 'Unknown']\n",
            "Educational_level: ['Junior high school' 'Above high school' 'Elementary school'\n",
            " 'High school' 'Unknown' 'Illiterate' 'Writing & reading']\n",
            "Vehicle_driver_relation: ['Employee' 'Owner' 'Unknown' 'Other']\n",
            "Driving_experience: [3.77257315 7.         3.         1.5        0.         0.5       ]\n",
            "Type_of_vehicle: ['Public (> 45 seats)' 'Automobile' 'Lorry (41?100Q)'\n",
            " 'Public (13?45 seats)' 'Lorry (11?40Q)' 'Long lorry' 'Public (12 seats)'\n",
            " 'Taxi' 'Pick up upto 10Q' 'Stationwagen' 'Ridden horse' 'Other' 'Bajaj'\n",
            " 'Turbo' 'Motorcycle' 'Special vehicle' 'Bicycle']\n",
            "Owner_of_vehicle: ['Owner' 'Governmental' 'Organization' 'Other']\n",
            "Service_year_of_vehicle: [ 4.10906077 15.          1.5         0.          0.5       ]\n",
            "Defect_of_vehicle: ['No defect' '7' '5']\n",
            "Area_accident_occured: ['Office areas' ' Industrial areas' 'Residential areas' 'Other'\n",
            " ' Church areas' '  Recreational areas' '  Market areas'\n",
            " 'Rural village areas' ' Outside rural areas' ' Hospital areas'\n",
            " 'School areas' 'Rural village areasOffice areas' 'Recreational areas']\n",
            "Lanes_or_Medians: ['Undivided Two way' 'other' 'Double carriageway (median)' 'One way'\n",
            " 'Two-way (divided with solid lines road marking)'\n",
            " 'Two-way (divided with broken lines road marking)' 'Unknown']\n",
            "Road_allignment: ['Tangent road with flat terrain'\n",
            " 'Tangent road with mild grade and flat terrain' 'Escarpments'\n",
            " 'Tangent road with rolling terrain' 'Gentle horizontal curve'\n",
            " 'Tangent road with mountainous terrain and'\n",
            " 'Steep grade downward with mountainous terrain' 'Sharp reverse curve'\n",
            " 'Steep grade upward with mountainous terrain']\n",
            "Types_of_Junction: ['No junction' 'Y Shape' 'Crossing' 'O Shape' 'Other' 'Unknown' 'T Shape'\n",
            " 'X Shape']\n",
            "Road_surface_type: ['Asphalt roads' 'Earth roads' 'Gravel roads' 'Other'\n",
            " 'Asphalt roads with some distress']\n",
            "Road_surface_conditions: ['Dry' 'Wet or damp' 'Snow' 'Flood over 3cm. deep']\n",
            "Light_conditions: ['Daylight' 'Darkness - lights lit' 'Darkness - no lighting'\n",
            " 'Darkness - lights unlit']\n",
            "Weather_conditions: ['Normal' 'Raining' 'Raining and Windy' 'Cloudy' 'Other' 'Windy' 'Snow'\n",
            " 'Unknown' 'Fog or mist']\n",
            "Type_of_collision: ['Vehicle with vehicle collision'\n",
            " 'Collision with roadside-parked vehicles' 'Collision with animals'\n",
            " 'Other' 'Rollover' 'Fall from vehicles' 'Collision with pedestrians'\n",
            " 'Collision with roadside objects' 'Unknown' 'With Train']\n",
            "Number_of_vehicles_involved: [2 1 3 6 4 7]\n",
            "Number_of_casualties: [2 1 3 4 6 5 8 7]\n",
            "Vehicle_movement: ['Going straight' 'U-Turn' 'Turnover' 'Waiting to go' 'Moving Backward'\n",
            " 'Getting off' 'Reversing' 'Parked' 'Unknown' 'Stopping' 'Other'\n",
            " 'Overtaking' 'Entering a junction']\n",
            "Casualty_class: ['na' 'Pedestrian' 'Passenger' 'Driver or rider']\n",
            "Sex_of_casualty: ['na' 'Female' 'Male']\n",
            "Age_band_of_casualty: ['na' '18-30' 'Under 18' '31-50' 'Over 51' '5']\n",
            "Casualty_severity: ['na' '3' '2' '1']\n",
            "Pedestrian_movement: ['Not a Pedestrian' \"Crossing from driver's nearside\"\n",
            " 'Crossing from nearside - masked by parked or statioNot a Pedestrianry vehicle'\n",
            " 'Unknown or other'\n",
            " 'Crossing from offside - masked by  parked or statioNot a Pedestrianry vehicle'\n",
            " 'In carriageway, statioNot a Pedestrianry - not crossing  (standing or playing)'\n",
            " 'Walking along in carriageway, back to traffic'\n",
            " 'Walking along in carriageway, facing traffic'\n",
            " 'In carriageway, statioNot a Pedestrianry - not crossing  (standing or playing) - masked by parked or statioNot a Pedestrianry vehicle']\n",
            "Cause_of_accident: ['Overtaking' 'Changing lane to the right' 'No priority to vehicle'\n",
            " 'Moving Backward' 'Changing lane to the left' 'No priority to pedestrian'\n",
            " 'No distancing' 'Getting off the vehicle improperly' 'Overloading'\n",
            " 'Other' 'Overspeed' 'Driving carelessly' 'Driving at high speed'\n",
            " 'Driving to the left' 'Unknown' 'Overturning' 'Turnover'\n",
            " 'Driving under the influence of drugs' 'Drunk driving' 'Improper parking']\n",
            "Accident_severity: ['Slight Injury' 'Serious Injury' 'Fatal injury']\n"
          ]
        }
      ]
    },
    {
      "cell_type": "markdown",
      "source": [
        "As can be seen there is no unknown gender so we will replace it as a Male"
      ],
      "metadata": {
        "id": "MIzuv7Oy8DLc"
      }
    },
    {
      "cell_type": "code",
      "source": [
        "df['Sex_of_driver']=df['Sex_of_driver'].replace('Unknown',df['Sex_of_driver'].mode()[0])"
      ],
      "metadata": {
        "id": "GxjcPU6R8BIy"
      },
      "execution_count": null,
      "outputs": []
    },
    {
      "cell_type": "code",
      "source": [
        "df['Casualty_class']=df['Casualty_class'].replace('na',df['Casualty_class'].mode()[0])"
      ],
      "metadata": {
        "id": "Dd-38IgAEHDW"
      },
      "execution_count": null,
      "outputs": []
    },
    {
      "cell_type": "code",
      "source": [
        "import numpy as np"
      ],
      "metadata": {
        "id": "torOGkn2mxRI"
      },
      "execution_count": null,
      "outputs": []
    },
    {
      "cell_type": "markdown",
      "source": [
        "### Ensure data types are appropriate for each column.\n",
        "\n",
        "---\n",
        "\n"
      ],
      "metadata": {
        "id": "ANF5wAzWmYyc"
      }
    },
    {
      "cell_type": "markdown",
      "source": [
        "Change the type of the date columns and time to date"
      ],
      "metadata": {
        "id": "0o6_3AQKlBth"
      }
    },
    {
      "cell_type": "code",
      "source": [
        "df['Time']= pd.to_datetime(df['Time'])"
      ],
      "metadata": {
        "colab": {
          "base_uri": "https://localhost:8080/"
        },
        "id": "Y_LRjwkkmzMG",
        "outputId": "0723a0b6-8333-4028-bca6-85ce0fe50639"
      },
      "execution_count": null,
      "outputs": [
        {
          "output_type": "stream",
          "name": "stderr",
          "text": [
            "<ipython-input-71-9d8a133adb20>:1: UserWarning: Could not infer format, so each element will be parsed individually, falling back to `dateutil`. To ensure parsing is consistent and as-expected, please specify a format.\n",
            "  df['Time']= pd.to_datetime(df['Time'])\n"
          ]
        }
      ]
    },
    {
      "cell_type": "markdown",
      "source": [
        "## 2. Exploratory Data Analysis (EDA)"
      ],
      "metadata": {
        "id": "hkp41fRQoUSj"
      }
    },
    {
      "cell_type": "markdown",
      "source": [
        "### Perform summary statistics on the dataset."
      ],
      "metadata": {
        "id": "RQpjcBLfoZgr"
      }
    },
    {
      "cell_type": "code",
      "source": [
        "df.describe()"
      ],
      "metadata": {
        "colab": {
          "base_uri": "https://localhost:8080/",
          "height": 419
        },
        "id": "2z0V-vrnmDx9",
        "outputId": "8cf5e91f-509b-4fbc-84f5-09a0e74e1eaf"
      },
      "execution_count": null,
      "outputs": [
        {
          "output_type": "execute_result",
          "data": {
            "text/plain": [
              "                                Time  Driving_experience  \\\n",
              "count                          10247        10247.000000   \n",
              "mean   2024-07-25 14:16:55.063921408            3.772573   \n",
              "min              2024-07-25 00:01:00            0.000000   \n",
              "25%              2024-07-25 10:30:00            1.500000   \n",
              "50%              2024-07-25 15:10:00            3.772573   \n",
              "75%              2024-07-25 18:10:00            7.000000   \n",
              "max              2024-07-25 23:59:00            7.000000   \n",
              "std                              NaN            2.279793   \n",
              "\n",
              "       Service_year_of_vehicle  Number_of_vehicles_involved  \\\n",
              "count             10247.000000                 10247.000000   \n",
              "mean                  4.109061                     2.040695   \n",
              "min                   0.000000                     1.000000   \n",
              "25%                   0.500000                     2.000000   \n",
              "50%                   4.109061                     2.000000   \n",
              "75%                   4.109061                     2.000000   \n",
              "max                  15.000000                     7.000000   \n",
              "std                   4.272955                     0.689994   \n",
              "\n",
              "       Number_of_casualties  \n",
              "count          10247.000000  \n",
              "mean               1.551186  \n",
              "min                1.000000  \n",
              "25%                1.000000  \n",
              "50%                1.000000  \n",
              "75%                2.000000  \n",
              "max                8.000000  \n",
              "std                1.010916  "
            ],
            "text/html": [
              "\n",
              "  <div id=\"df-797a752b-1715-47be-80aa-e28aea348e0d\" class=\"colab-df-container\">\n",
              "    <div>\n",
              "<style scoped>\n",
              "    .dataframe tbody tr th:only-of-type {\n",
              "        vertical-align: middle;\n",
              "    }\n",
              "\n",
              "    .dataframe tbody tr th {\n",
              "        vertical-align: top;\n",
              "    }\n",
              "\n",
              "    .dataframe thead th {\n",
              "        text-align: right;\n",
              "    }\n",
              "</style>\n",
              "<table border=\"1\" class=\"dataframe\">\n",
              "  <thead>\n",
              "    <tr style=\"text-align: right;\">\n",
              "      <th></th>\n",
              "      <th>Time</th>\n",
              "      <th>Driving_experience</th>\n",
              "      <th>Service_year_of_vehicle</th>\n",
              "      <th>Number_of_vehicles_involved</th>\n",
              "      <th>Number_of_casualties</th>\n",
              "    </tr>\n",
              "  </thead>\n",
              "  <tbody>\n",
              "    <tr>\n",
              "      <th>count</th>\n",
              "      <td>10247</td>\n",
              "      <td>10247.000000</td>\n",
              "      <td>10247.000000</td>\n",
              "      <td>10247.000000</td>\n",
              "      <td>10247.000000</td>\n",
              "    </tr>\n",
              "    <tr>\n",
              "      <th>mean</th>\n",
              "      <td>2024-07-25 14:16:55.063921408</td>\n",
              "      <td>3.772573</td>\n",
              "      <td>4.109061</td>\n",
              "      <td>2.040695</td>\n",
              "      <td>1.551186</td>\n",
              "    </tr>\n",
              "    <tr>\n",
              "      <th>min</th>\n",
              "      <td>2024-07-25 00:01:00</td>\n",
              "      <td>0.000000</td>\n",
              "      <td>0.000000</td>\n",
              "      <td>1.000000</td>\n",
              "      <td>1.000000</td>\n",
              "    </tr>\n",
              "    <tr>\n",
              "      <th>25%</th>\n",
              "      <td>2024-07-25 10:30:00</td>\n",
              "      <td>1.500000</td>\n",
              "      <td>0.500000</td>\n",
              "      <td>2.000000</td>\n",
              "      <td>1.000000</td>\n",
              "    </tr>\n",
              "    <tr>\n",
              "      <th>50%</th>\n",
              "      <td>2024-07-25 15:10:00</td>\n",
              "      <td>3.772573</td>\n",
              "      <td>4.109061</td>\n",
              "      <td>2.000000</td>\n",
              "      <td>1.000000</td>\n",
              "    </tr>\n",
              "    <tr>\n",
              "      <th>75%</th>\n",
              "      <td>2024-07-25 18:10:00</td>\n",
              "      <td>7.000000</td>\n",
              "      <td>4.109061</td>\n",
              "      <td>2.000000</td>\n",
              "      <td>2.000000</td>\n",
              "    </tr>\n",
              "    <tr>\n",
              "      <th>max</th>\n",
              "      <td>2024-07-25 23:59:00</td>\n",
              "      <td>7.000000</td>\n",
              "      <td>15.000000</td>\n",
              "      <td>7.000000</td>\n",
              "      <td>8.000000</td>\n",
              "    </tr>\n",
              "    <tr>\n",
              "      <th>std</th>\n",
              "      <td>NaN</td>\n",
              "      <td>2.279793</td>\n",
              "      <td>4.272955</td>\n",
              "      <td>0.689994</td>\n",
              "      <td>1.010916</td>\n",
              "    </tr>\n",
              "  </tbody>\n",
              "</table>\n",
              "</div>\n",
              "    <div class=\"colab-df-buttons\">\n",
              "\n",
              "  <div class=\"colab-df-container\">\n",
              "    <button class=\"colab-df-convert\" onclick=\"convertToInteractive('df-797a752b-1715-47be-80aa-e28aea348e0d')\"\n",
              "            title=\"Convert this dataframe to an interactive table.\"\n",
              "            style=\"display:none;\">\n",
              "\n",
              "  <svg xmlns=\"http://www.w3.org/2000/svg\" height=\"24px\" viewBox=\"0 -960 960 960\">\n",
              "    <path d=\"M120-120v-720h720v720H120Zm60-500h600v-160H180v160Zm220 220h160v-160H400v160Zm0 220h160v-160H400v160ZM180-400h160v-160H180v160Zm440 0h160v-160H620v160ZM180-180h160v-160H180v160Zm440 0h160v-160H620v160Z\"/>\n",
              "  </svg>\n",
              "    </button>\n",
              "\n",
              "  <style>\n",
              "    .colab-df-container {\n",
              "      display:flex;\n",
              "      gap: 12px;\n",
              "    }\n",
              "\n",
              "    .colab-df-convert {\n",
              "      background-color: #E8F0FE;\n",
              "      border: none;\n",
              "      border-radius: 50%;\n",
              "      cursor: pointer;\n",
              "      display: none;\n",
              "      fill: #1967D2;\n",
              "      height: 32px;\n",
              "      padding: 0 0 0 0;\n",
              "      width: 32px;\n",
              "    }\n",
              "\n",
              "    .colab-df-convert:hover {\n",
              "      background-color: #E2EBFA;\n",
              "      box-shadow: 0px 1px 2px rgba(60, 64, 67, 0.3), 0px 1px 3px 1px rgba(60, 64, 67, 0.15);\n",
              "      fill: #174EA6;\n",
              "    }\n",
              "\n",
              "    .colab-df-buttons div {\n",
              "      margin-bottom: 4px;\n",
              "    }\n",
              "\n",
              "    [theme=dark] .colab-df-convert {\n",
              "      background-color: #3B4455;\n",
              "      fill: #D2E3FC;\n",
              "    }\n",
              "\n",
              "    [theme=dark] .colab-df-convert:hover {\n",
              "      background-color: #434B5C;\n",
              "      box-shadow: 0px 1px 3px 1px rgba(0, 0, 0, 0.15);\n",
              "      filter: drop-shadow(0px 1px 2px rgba(0, 0, 0, 0.3));\n",
              "      fill: #FFFFFF;\n",
              "    }\n",
              "  </style>\n",
              "\n",
              "    <script>\n",
              "      const buttonEl =\n",
              "        document.querySelector('#df-797a752b-1715-47be-80aa-e28aea348e0d button.colab-df-convert');\n",
              "      buttonEl.style.display =\n",
              "        google.colab.kernel.accessAllowed ? 'block' : 'none';\n",
              "\n",
              "      async function convertToInteractive(key) {\n",
              "        const element = document.querySelector('#df-797a752b-1715-47be-80aa-e28aea348e0d');\n",
              "        const dataTable =\n",
              "          await google.colab.kernel.invokeFunction('convertToInteractive',\n",
              "                                                    [key], {});\n",
              "        if (!dataTable) return;\n",
              "\n",
              "        const docLinkHtml = 'Like what you see? Visit the ' +\n",
              "          '<a target=\"_blank\" href=https://colab.research.google.com/notebooks/data_table.ipynb>data table notebook</a>'\n",
              "          + ' to learn more about interactive tables.';\n",
              "        element.innerHTML = '';\n",
              "        dataTable['output_type'] = 'display_data';\n",
              "        await google.colab.output.renderOutput(dataTable, element);\n",
              "        const docLink = document.createElement('div');\n",
              "        docLink.innerHTML = docLinkHtml;\n",
              "        element.appendChild(docLink);\n",
              "      }\n",
              "    </script>\n",
              "  </div>\n",
              "\n",
              "\n",
              "<div id=\"df-563feff1-07cc-43bf-99e2-a140b88edf39\">\n",
              "  <button class=\"colab-df-quickchart\" onclick=\"quickchart('df-563feff1-07cc-43bf-99e2-a140b88edf39')\"\n",
              "            title=\"Suggest charts\"\n",
              "            style=\"display:none;\">\n",
              "\n",
              "<svg xmlns=\"http://www.w3.org/2000/svg\" height=\"24px\"viewBox=\"0 0 24 24\"\n",
              "     width=\"24px\">\n",
              "    <g>\n",
              "        <path d=\"M19 3H5c-1.1 0-2 .9-2 2v14c0 1.1.9 2 2 2h14c1.1 0 2-.9 2-2V5c0-1.1-.9-2-2-2zM9 17H7v-7h2v7zm4 0h-2V7h2v10zm4 0h-2v-4h2v4z\"/>\n",
              "    </g>\n",
              "</svg>\n",
              "  </button>\n",
              "\n",
              "<style>\n",
              "  .colab-df-quickchart {\n",
              "      --bg-color: #E8F0FE;\n",
              "      --fill-color: #1967D2;\n",
              "      --hover-bg-color: #E2EBFA;\n",
              "      --hover-fill-color: #174EA6;\n",
              "      --disabled-fill-color: #AAA;\n",
              "      --disabled-bg-color: #DDD;\n",
              "  }\n",
              "\n",
              "  [theme=dark] .colab-df-quickchart {\n",
              "      --bg-color: #3B4455;\n",
              "      --fill-color: #D2E3FC;\n",
              "      --hover-bg-color: #434B5C;\n",
              "      --hover-fill-color: #FFFFFF;\n",
              "      --disabled-bg-color: #3B4455;\n",
              "      --disabled-fill-color: #666;\n",
              "  }\n",
              "\n",
              "  .colab-df-quickchart {\n",
              "    background-color: var(--bg-color);\n",
              "    border: none;\n",
              "    border-radius: 50%;\n",
              "    cursor: pointer;\n",
              "    display: none;\n",
              "    fill: var(--fill-color);\n",
              "    height: 32px;\n",
              "    padding: 0;\n",
              "    width: 32px;\n",
              "  }\n",
              "\n",
              "  .colab-df-quickchart:hover {\n",
              "    background-color: var(--hover-bg-color);\n",
              "    box-shadow: 0 1px 2px rgba(60, 64, 67, 0.3), 0 1px 3px 1px rgba(60, 64, 67, 0.15);\n",
              "    fill: var(--button-hover-fill-color);\n",
              "  }\n",
              "\n",
              "  .colab-df-quickchart-complete:disabled,\n",
              "  .colab-df-quickchart-complete:disabled:hover {\n",
              "    background-color: var(--disabled-bg-color);\n",
              "    fill: var(--disabled-fill-color);\n",
              "    box-shadow: none;\n",
              "  }\n",
              "\n",
              "  .colab-df-spinner {\n",
              "    border: 2px solid var(--fill-color);\n",
              "    border-color: transparent;\n",
              "    border-bottom-color: var(--fill-color);\n",
              "    animation:\n",
              "      spin 1s steps(1) infinite;\n",
              "  }\n",
              "\n",
              "  @keyframes spin {\n",
              "    0% {\n",
              "      border-color: transparent;\n",
              "      border-bottom-color: var(--fill-color);\n",
              "      border-left-color: var(--fill-color);\n",
              "    }\n",
              "    20% {\n",
              "      border-color: transparent;\n",
              "      border-left-color: var(--fill-color);\n",
              "      border-top-color: var(--fill-color);\n",
              "    }\n",
              "    30% {\n",
              "      border-color: transparent;\n",
              "      border-left-color: var(--fill-color);\n",
              "      border-top-color: var(--fill-color);\n",
              "      border-right-color: var(--fill-color);\n",
              "    }\n",
              "    40% {\n",
              "      border-color: transparent;\n",
              "      border-right-color: var(--fill-color);\n",
              "      border-top-color: var(--fill-color);\n",
              "    }\n",
              "    60% {\n",
              "      border-color: transparent;\n",
              "      border-right-color: var(--fill-color);\n",
              "    }\n",
              "    80% {\n",
              "      border-color: transparent;\n",
              "      border-right-color: var(--fill-color);\n",
              "      border-bottom-color: var(--fill-color);\n",
              "    }\n",
              "    90% {\n",
              "      border-color: transparent;\n",
              "      border-bottom-color: var(--fill-color);\n",
              "    }\n",
              "  }\n",
              "</style>\n",
              "\n",
              "  <script>\n",
              "    async function quickchart(key) {\n",
              "      const quickchartButtonEl =\n",
              "        document.querySelector('#' + key + ' button');\n",
              "      quickchartButtonEl.disabled = true;  // To prevent multiple clicks.\n",
              "      quickchartButtonEl.classList.add('colab-df-spinner');\n",
              "      try {\n",
              "        const charts = await google.colab.kernel.invokeFunction(\n",
              "            'suggestCharts', [key], {});\n",
              "      } catch (error) {\n",
              "        console.error('Error during call to suggestCharts:', error);\n",
              "      }\n",
              "      quickchartButtonEl.classList.remove('colab-df-spinner');\n",
              "      quickchartButtonEl.classList.add('colab-df-quickchart-complete');\n",
              "    }\n",
              "    (() => {\n",
              "      let quickchartButtonEl =\n",
              "        document.querySelector('#df-563feff1-07cc-43bf-99e2-a140b88edf39 button');\n",
              "      quickchartButtonEl.style.display =\n",
              "        google.colab.kernel.accessAllowed ? 'block' : 'none';\n",
              "    })();\n",
              "  </script>\n",
              "</div>\n",
              "\n",
              "    </div>\n",
              "  </div>\n"
            ],
            "application/vnd.google.colaboratory.intrinsic+json": {
              "type": "dataframe",
              "summary": "{\n  \"name\": \"df\",\n  \"rows\": 8,\n  \"fields\": [\n    {\n      \"column\": \"Time\",\n      \"properties\": {\n        \"dtype\": \"date\",\n        \"min\": \"1970-01-01 00:00:00.000010247\",\n        \"max\": \"2024-07-25 23:59:00\",\n        \"num_unique_values\": 7,\n        \"samples\": [\n          \"10247\",\n          \"2024-07-25 14:16:55.063921408\",\n          \"2024-07-25 18:10:00\"\n        ],\n        \"semantic_type\": \"\",\n        \"description\": \"\"\n      }\n    },\n    {\n      \"column\": \"Driving_experience\",\n      \"properties\": {\n        \"dtype\": \"number\",\n        \"std\": 3621.5833249136285,\n        \"min\": 0.0,\n        \"max\": 10247.0,\n        \"num_unique_values\": 7,\n        \"samples\": [\n          10247.0,\n          3.772573150822554,\n          7.0\n        ],\n        \"semantic_type\": \"\",\n        \"description\": \"\"\n      }\n    },\n    {\n      \"column\": \"Service_year_of_vehicle\",\n      \"properties\": {\n        \"dtype\": \"number\",\n        \"std\": 3621.2431903919187,\n        \"min\": 0.0,\n        \"max\": 10247.0,\n        \"num_unique_values\": 6,\n        \"samples\": [\n          10247.0,\n          4.109060773480663,\n          4.272954779100806\n        ],\n        \"semantic_type\": \"\",\n        \"description\": \"\"\n      }\n    },\n    {\n      \"column\": \"Number_of_vehicles_involved\",\n      \"properties\": {\n        \"dtype\": \"number\",\n        \"std\": 3622.0170916395573,\n        \"min\": 0.6899936102557217,\n        \"max\": 10247.0,\n        \"num_unique_values\": 6,\n        \"samples\": [\n          10247.0,\n          2.0406948375134184,\n          0.6899936102557217\n        ],\n        \"semantic_type\": \"\",\n        \"description\": \"\"\n      }\n    },\n    {\n      \"column\": \"Number_of_casualties\",\n      \"properties\": {\n        \"dtype\": \"number\",\n        \"std\": 3622.0763740811653,\n        \"min\": 1.0,\n        \"max\": 10247.0,\n        \"num_unique_values\": 6,\n        \"samples\": [\n          10247.0,\n          1.551185712891578,\n          1.0109155905470273\n        ],\n        \"semantic_type\": \"\",\n        \"description\": \"\"\n      }\n    }\n  ]\n}"
            }
          },
          "metadata": {},
          "execution_count": 73
        }
      ]
    },
    {
      "cell_type": "markdown",
      "source": [
        "### Identify and analyze patterns in the data."
      ],
      "metadata": {
        "id": "OjwISK8nocUT"
      }
    },
    {
      "cell_type": "markdown",
      "source": [
        "### Visualize the distribution of key variables (e.g., Age_band_of_driver, Type_of_vehicle)."
      ],
      "metadata": {
        "id": "4k-cDvL8oflR"
      }
    },
    {
      "cell_type": "code",
      "source": [
        "import matplotlib.pyplot as plt\n",
        "import seaborn as sns\n",
        "\n",
        "\n",
        "plt.figure(figsize=(10, 6))\n",
        "sns.histplot(df['Age_band_of_driver'], bins=20, color='blue')\n",
        "plt.title('Histogram of Total Crashes')\n",
        "plt.xlabel('Age_band_of_driver')\n",
        "plt.ylabel('Frequency')\n",
        "plt.show()"
      ],
      "metadata": {
        "id": "V7I156lepKv1",
        "colab": {
          "base_uri": "https://localhost:8080/",
          "height": 564
        },
        "outputId": "ab5d7732-e054-41dd-8f02-a2d17a75fc67"
      },
      "execution_count": null,
      "outputs": [
        {
          "output_type": "display_data",
          "data": {
            "text/plain": [
              "<Figure size 1000x600 with 1 Axes>"
            ],
            "image/png": "[encoded data removed]"
          },
          "metadata": {}
        }
      ]
    },
    {
      "cell_type": "code",
      "source": [
        "df['Road_surface_conditions'].value_counts()"
      ],
      "metadata": {
        "colab": {
          "base_uri": "https://localhost:8080/"
        },
        "id": "mLIzhFQzH1mt",
        "outputId": "169449a2-88b0-435f-d350-b8055cccb4fb"
      },
      "execution_count": null,
      "outputs": [
        {
          "output_type": "execute_result",
          "data": {
            "text/plain": [
              "Road_surface_conditions\n",
              "Dry                     7734\n",
              "Wet or damp             2454\n",
              "Snow                      57\n",
              "Flood over 3cm. deep       2\n",
              "Name: count, dtype: int64"
            ]
          },
          "metadata": {},
          "execution_count": 107
        }
      ]
    },
    {
      "cell_type": "markdown",
      "source": [
        "Dorwing a pie chart for the lebles Dry, wet, other. where other is the combination of snow and Flood over 3cm. deep\n"
      ],
      "metadata": {
        "id": "uTJCaXNdH-i0"
      }
    },
    {
      "cell_type": "code",
      "source": [
        "plt.pie(df['Road_surface_conditions'].value_counts(), labels=df['Road_surface_conditions'].unique(), autopct='%1.1f%%')\n",
        "plt.show()"
      ],
      "metadata": {
        "colab": {
          "base_uri": "https://localhost:8080/",
          "height": 406
        },
        "id": "GD_EH7O5_QuR",
        "outputId": "53072761-24a7-4a1a-9e6a-ffa7c7d30c49"
      },
      "execution_count": null,
      "outputs": [
        {
          "output_type": "display_data",
          "data": {
            "text/plain": [
              "<Figure size 640x480 with 1 Axes>"
            ],
            "image/png": "[encoded data removed]"
          },
          "metadata": {}
        }
      ]
    },
    {
      "cell_type": "code",
      "source": [
        "plt.pie(df['Type_of_vehicle'].value_counts(), labels=df['Type_of_vehicle'].unique(), autopct='%1.1f%%')\n",
        "plt.show()"
      ],
      "metadata": {
        "colab": {
          "base_uri": "https://localhost:8080/",
          "height": 406
        },
        "id": "RVSpFsJ_oy5E",
        "outputId": "82385123-8ef8-445d-b8d7-6746806bb18d"
      },
      "execution_count": null,
      "outputs": [
        {
          "output_type": "display_data",
          "data": {
            "text/plain": [
              "<Figure size 640x480 with 1 Axes>"
            ],
            "image/png": "[encoded data removed]"
          },
          "metadata": {}
        }
      ]
    },
    {
      "cell_type": "markdown",
      "source": [
        "We could reduece the number of accdedents by giveing more lessions to the Public car drivers"
      ],
      "metadata": {
        "id": "_YyK2v7gw6N8"
      }
    },
    {
      "cell_type": "markdown",
      "source": [
        "### Explore relationships between variables (e.g., Age_band_of_driver vs. Accident_severity).\n"
      ],
      "metadata": {
        "id": "Lz4jQtNBoih-"
      }
    },
    {
      "cell_type": "markdown",
      "source": [
        "Find the relationship between age_band_of_driver and Accident"
      ],
      "metadata": {
        "id": "hkpYL0lKKqDs"
      }
    },
    {
      "cell_type": "code",
      "source": [
        "plt.figure(figsize=(10, 6))\n",
        "sns.histplot(df['Accident_severity'], bins=20, color='blue')\n",
        "\n"
      ],
      "metadata": {
        "id": "2Txh8eI1pLJQ",
        "colab": {
          "base_uri": "https://localhost:8080/",
          "height": 559
        },
        "outputId": "fbadb06a-28a1-4254-820f-805bb206f76f"
      },
      "execution_count": null,
      "outputs": [
        {
          "output_type": "execute_result",
          "data": {
            "text/plain": [
              "<Axes: xlabel='Accident_severity', ylabel='Count'>"
            ]
          },
          "metadata": {},
          "execution_count": 126
        },
        {
          "output_type": "display_data",
          "data": {
            "text/plain": [
              "<Figure size 1000x600 with 1 Axes>"
            ],
            "image/png": "[encoded data removed]"
          },
          "metadata": {}
        }
      ]
    },
    {
      "cell_type": "code",
      "source": [
        "df['Area_accident_occured'].value_counts()"
      ],
      "metadata": {
        "colab": {
          "base_uri": "https://localhost:8080/"
        },
        "id": "O74bn4ZILbJe",
        "outputId": "c0da9371-0d48-45b3-9ad2-c8c3b9211243"
      },
      "execution_count": null,
      "outputs": [
        {
          "output_type": "execute_result",
          "data": {
            "text/plain": [
              "Area_accident_occured\n",
              "Other                              3254\n",
              "Office areas                       2903\n",
              "Residential areas                  1746\n",
              " Church areas                       911\n",
              " Industrial areas                   383\n",
              "School areas                        347\n",
              "  Recreational areas                279\n",
              " Outside rural areas                203\n",
              " Hospital areas                     103\n",
              "  Market areas                       57\n",
              "Rural village areas                  41\n",
              "Rural village areasOffice areas      19\n",
              "Recreational areas                    1\n",
              "Name: count, dtype: int64"
            ]
          },
          "metadata": {},
          "execution_count": 127
        }
      ]
    },
    {
      "cell_type": "code",
      "source": [
        "plt.pie(df['Area_accident_occured'].value_counts(), labels=['Other','Office area', 'Industrial area', 'Residential areas','School areas', 'Recreational areas', 'Outside rural areas','Hospital areas','','','','',''], autopct='%1.1f%%')\n",
        "plt.show()"
      ],
      "metadata": {
        "colab": {
          "base_uri": "https://localhost:8080/",
          "height": 406
        },
        "id": "0247Y7r3-tbi",
        "outputId": "b6bc607c-9695-4165-917a-358304c987bc"
      },
      "execution_count": null,
      "outputs": [
        {
          "output_type": "display_data",
          "data": {
            "text/plain": [
              "<Figure size 640x480 with 1 Axes>"
            ],
            "image/png": "[encoded data removed]"
          },
          "metadata": {}
        }
      ]
    },
    {
      "cell_type": "markdown",
      "source": [
        "## 3. Data Visualization"
      ],
      "metadata": {
        "id": "mZiDh1gronRD"
      }
    },
    {
      "cell_type": "markdown",
      "source": [
        "* Ensure the visualizations are clear and informative."
      ],
      "metadata": {
        "id": "WL4wC3iSqWuO"
      }
    },
    {
      "cell_type": "markdown",
      "source": [
        "### Create visualizations to illustrate the findings from the EDA.\n"
      ],
      "metadata": {
        "id": "VfUFvWxUopoh"
      }
    },
    {
      "cell_type": "markdown",
      "source": [
        "### Use appropriate plots such as histograms, bar charts, pie charts, scatter plots, and heatmaps."
      ],
      "metadata": {
        "id": "G4KCbzg4osSW"
      }
    },
    {
      "cell_type": "code",
      "source": [
        "plt.pie(df['Driving_experience'].value_counts(), labels=df['Driving_experience'].unique(), autopct='%1.1f%%')\n",
        "plt.title('Driving Experience')\n",
        "plt.show()"
      ],
      "metadata": {
        "id": "IKyAKt5apMp4",
        "colab": {
          "base_uri": "https://localhost:8080/",
          "height": 428
        },
        "outputId": "3fecfe97-889b-4aeb-8489-f48ed0b4ee29"
      },
      "execution_count": null,
      "outputs": [
        {
          "output_type": "display_data",
          "data": {
            "text/plain": [
              "<Figure size 640x480 with 1 Axes>"
            ],
            "image/png": "[encoded data removed]"
          },
          "metadata": {}
        }
      ]
    },
    {
      "cell_type": "markdown",
      "source": [
        "## 4. Insights and Conclusions"
      ],
      "metadata": {
        "id": "breh9YkZoxiT"
      }
    },
    {
      "cell_type": "markdown",
      "source": [
        "* <h3>Summarize the key insights gained from the data analysis.<h3/>\n",
        "* <h3>Draw conclusions based on the patterns observed in the data.<h3/>"
      ],
      "metadata": {
        "id": "a9akovSwo5l2"
      }
    },
    {
      "cell_type": "markdown",
      "source": [
        "\n",
        "\n",
        "1. the lower years of experince the more carfull the drivers resulting in less accedints\n",
        "\n",
        "2. or it could be the number of data collected from low experience driver is low or is not represnttive  \n",
        "\n",
        "3. The lower year of experiecen the more carful the drivers\n",
        "\n",
        "4. Working area in genral has more accedintes this could be solve by being ease on the time of starting and ending the wrok so the emplyee need not to hurry in thier ways\n",
        "\n",
        "5. or it maybe because of the small road in these area\n",
        "\n",
        "6. From the Road_surface_conditions it shows it the dary area has 75% of the accedents but this is not beacuse of the condition of the dry road is bad but it because most of the year the condition is Dry\n",
        "7. most of the accedint are not dangerous\n",
        "\n",
        "8. most of the driviers has 4 years of exerinces and thier veichles has 4 years also\n",
        "\n",
        "9. most of the accedints happened between two cars only this could be because the roads does not have a space  "
      ],
      "metadata": {
        "id": "vfCD5UVnxSkS"
      }
    },
    {
      "cell_type": "code",
      "source": [
        "plt.figure(figsize=(10, 6))\n",
        "sns.histplot(df['Driving_experience'], bins=20, color='blue')\n",
        "plt.title('Histogram of Total Crashes')\n",
        "plt.xlabel('Driving_experience')\n",
        "plt.ylabel('Frequency')\n",
        "plt.show()"
      ],
      "metadata": {
        "id": "2-U6-y6DLe_y",
        "colab": {
          "base_uri": "https://localhost:8080/",
          "height": 564
        },
        "outputId": "1e64985c-f6d6-48bc-d341-7d1799128b49"
      },
      "execution_count": null,
      "outputs": [
        {
          "output_type": "display_data",
          "data": {
            "text/plain": [
              "<Figure size 1000x600 with 1 Axes>"
            ],
            "image/png": "[encoded data removed]"
          },
          "metadata": {}
        }
      ]
    },
    {
      "cell_type": "code",
      "source": [],
      "metadata": {
        "id": "rHvLZKrjze8e"
      },
      "execution_count": null,
      "outputs": []
    },
    {
      "cell_type": "markdown",
      "source": [],
      "metadata": {
        "id": "vm9TZMcv-eo_"
      }
    }
  ]
}